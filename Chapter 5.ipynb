{
 "cells": [
  {
   "cell_type": "markdown",
   "metadata": {},
   "source": [
    "#Chapter 5 Excercises\n",
    "\n",
    "## Cross-validation and boot-strapping"
   ]
  },
  {
   "cell_type": "code",
   "execution_count": 34,
   "metadata": {},
   "outputs": [],
   "source": [
    "# -------------------------------------------------------------------------------------------------\n",
    "# Import Packages\n",
    "# -------------------------------------------------------------------------------------------------\n",
    "\n",
    "# Basic packages\n",
    "import numpy as np\n",
    "import pandas as pd\n",
    "from matplotlib import pyplot as plt\n",
    "import seaborn as sns\n",
    "\n",
    "#Statsmodels imports\n",
    "import statsmodels.formula.api as smf\n",
    "\n",
    "#sklearn imports\n",
    "from sklearn.model_selection import train_test_split\n",
    "from sklearn.linear_model import LinearRegression\n",
    "from sklearn.preprocessing import PolynomialFeatures\n",
    "from sklearn.metrics import mean_squared_error"
   ]
  },
  {
   "cell_type": "code",
   "execution_count": 38,
   "metadata": {},
   "outputs": [
    {
     "data": {
      "text/html": [
       "<div>\n",
       "<style scoped>\n",
       "    .dataframe tbody tr th:only-of-type {\n",
       "        vertical-align: middle;\n",
       "    }\n",
       "\n",
       "    .dataframe tbody tr th {\n",
       "        vertical-align: top;\n",
       "    }\n",
       "\n",
       "    .dataframe thead th {\n",
       "        text-align: right;\n",
       "    }\n",
       "</style>\n",
       "<table border=\"1\" class=\"dataframe\">\n",
       "  <thead>\n",
       "    <tr style=\"text-align: right;\">\n",
       "      <th></th>\n",
       "      <th>mpg</th>\n",
       "      <th>cylinders</th>\n",
       "      <th>displacement</th>\n",
       "      <th>horsepower</th>\n",
       "      <th>weight</th>\n",
       "      <th>acceleration</th>\n",
       "      <th>year</th>\n",
       "      <th>origin</th>\n",
       "      <th>name</th>\n",
       "    </tr>\n",
       "  </thead>\n",
       "  <tbody>\n",
       "    <tr>\n",
       "      <th>0</th>\n",
       "      <td>18.0</td>\n",
       "      <td>8</td>\n",
       "      <td>307.0</td>\n",
       "      <td>130</td>\n",
       "      <td>3504</td>\n",
       "      <td>12.0</td>\n",
       "      <td>70</td>\n",
       "      <td>1</td>\n",
       "      <td>chevrolet chevelle malibu</td>\n",
       "    </tr>\n",
       "    <tr>\n",
       "      <th>1</th>\n",
       "      <td>15.0</td>\n",
       "      <td>8</td>\n",
       "      <td>350.0</td>\n",
       "      <td>165</td>\n",
       "      <td>3693</td>\n",
       "      <td>11.5</td>\n",
       "      <td>70</td>\n",
       "      <td>1</td>\n",
       "      <td>buick skylark 320</td>\n",
       "    </tr>\n",
       "    <tr>\n",
       "      <th>2</th>\n",
       "      <td>18.0</td>\n",
       "      <td>8</td>\n",
       "      <td>318.0</td>\n",
       "      <td>150</td>\n",
       "      <td>3436</td>\n",
       "      <td>11.0</td>\n",
       "      <td>70</td>\n",
       "      <td>1</td>\n",
       "      <td>plymouth satellite</td>\n",
       "    </tr>\n",
       "    <tr>\n",
       "      <th>3</th>\n",
       "      <td>16.0</td>\n",
       "      <td>8</td>\n",
       "      <td>304.0</td>\n",
       "      <td>150</td>\n",
       "      <td>3433</td>\n",
       "      <td>12.0</td>\n",
       "      <td>70</td>\n",
       "      <td>1</td>\n",
       "      <td>amc rebel sst</td>\n",
       "    </tr>\n",
       "    <tr>\n",
       "      <th>4</th>\n",
       "      <td>17.0</td>\n",
       "      <td>8</td>\n",
       "      <td>302.0</td>\n",
       "      <td>140</td>\n",
       "      <td>3449</td>\n",
       "      <td>10.5</td>\n",
       "      <td>70</td>\n",
       "      <td>1</td>\n",
       "      <td>ford torino</td>\n",
       "    </tr>\n",
       "  </tbody>\n",
       "</table>\n",
       "</div>"
      ],
      "text/plain": [
       "    mpg  cylinders  displacement horsepower  weight  acceleration  year  \\\n",
       "0  18.0          8         307.0        130    3504          12.0    70   \n",
       "1  15.0          8         350.0        165    3693          11.5    70   \n",
       "2  18.0          8         318.0        150    3436          11.0    70   \n",
       "3  16.0          8         304.0        150    3433          12.0    70   \n",
       "4  17.0          8         302.0        140    3449          10.5    70   \n",
       "\n",
       "   origin                       name  \n",
       "0       1  chevrolet chevelle malibu  \n",
       "1       1          buick skylark 320  \n",
       "2       1         plymouth satellite  \n",
       "3       1              amc rebel sst  \n",
       "4       1                ford torino  "
      ]
     },
     "execution_count": 38,
     "metadata": {},
     "output_type": "execute_result"
    }
   ],
   "source": [
    "# -------------------------------------------------------------------------------------------------\n",
    "# Guided lab work\n",
    "#\n",
    "# 5.3.1 The validation set approach\n",
    "# -------------------------------------------------------------------------------------------------\n",
    "\n",
    "# Read in csv\n",
    "df = pd.read_csv('C://Users//Ian Johnston//OneDrive - University of Toronto//Documents//Masters work//Studying-Statistical learning//Intro-to-statistical-learning//Datasets/Auto.csv')\n",
    "\n",
    "#Remove non-numeric horsepower entries\n",
    "df = df[df.horsepower.apply(lambda x: x.isnumeric())]\n",
    "\n",
    "#Display data frame\n",
    "df.head()"
   ]
  },
  {
   "cell_type": "code",
   "execution_count": 40,
   "metadata": {},
   "outputs": [
    {
     "data": {
      "image/png": "[encoded data removed]",
      "text/plain": [
       "<Figure size 432x288 with 1 Axes>"
      ]
     },
     "metadata": {
      "needs_background": "light"
     },
     "output_type": "display_data"
    }
   ],
   "source": [
    "#plot horsepower vs mpg\n",
    "\n",
    "fig, ax = plt.subplots(1,1)\n",
    "\n",
    "sns.scatterplot(x = 'displacement', y = 'mpg', data =df, ax = ax)\n",
    "\n",
    "plt.show()"
   ]
  },
  {
   "cell_type": "code",
   "execution_count": 41,
   "metadata": {},
   "outputs": [
    {
     "name": "stdout",
     "output_type": "stream",
     "text": [
      "0.6424551758699799\n"
     ]
    }
   ],
   "source": [
    "# -------------------------------------------------------------------------------------------------\n",
    "# Guided lab work\n",
    "#\n",
    "# 5.3.1 Tz\n",
    "# -------------------------------------------------------------------------------------------------\n",
    "\n",
    "#split the data into training and test sets. Set the seed for the random split\n",
    "x_train, x_test, y_train, y_test = train_test_split(df.iloc[:, [2]], df['mpg'], test_size =  0.33, random_state = 1)\n",
    "\n",
    "lm = LinearRegression()\n",
    "\n",
    "#fit the linear regression to the training set and then find the R^2 with the test set\n",
    "print(lm.fit(x_train, y_train).score(x_test, y_test))"
   ]
  },
  {
   "cell_type": "code",
   "execution_count": 42,
   "metadata": {},
   "outputs": [
    {
     "name": "stdout",
     "output_type": "stream",
     "text": [
      "0.6424551758699799\n"
     ]
    },
    {
     "data": {
      "text/plain": [
       "24.315828004740222"
      ]
     },
     "execution_count": 42,
     "metadata": {},
     "output_type": "execute_result"
    }
   ],
   "source": [
    "# -------------------------------------------------------------------------------------------------\n",
    "# Guided lab work\n",
    "#\n",
    "# 5.3.1 The validation set approach\n",
    "# -------------------------------------------------------------------------------------------------\n",
    "\n",
    "#split the data into training and test sets. Set the seed for the random split\n",
    "x_train, x_test, y_train, y_test = train_test_split(df.iloc[:, [2]], df['mpg'], test_size =  0.33, random_state = 1)\n",
    "\n",
    "lm = LinearRegression()\n",
    "\n",
    "#fit the linear regression to the training set and then find the R^2 with the test set\n",
    "print(lm.fit(x_train, y_train).score(x_test, y_test))\n",
    "\n",
    "#find MSE\n",
    "y_predict = lm.predict(x_test)\n",
    "mean_squared_error(y_test, y_predict)"
   ]
  },
  {
   "cell_type": "code",
   "execution_count": 43,
   "metadata": {},
   "outputs": [
    {
     "name": "stdout",
     "output_type": "stream",
     "text": [
      "0.6810669405067052\n"
     ]
    },
    {
     "data": {
      "text/plain": [
       "21.689927797261046"
      ]
     },
     "execution_count": 43,
     "metadata": {},
     "output_type": "execute_result"
    }
   ],
   "source": [
    "# -------------------------------------------------------------------------------------------------\n",
    "# Guided lab work\n",
    "#\n",
    "# 5.3.1 The validation set approach- add in polynomial terms\n",
    "# -------------------------------------------------------------------------------------------------\n",
    "\n",
    "#split the data into training and test sets. Set the seed for the random split\n",
    "x_train, x_test, y_train, y_test = train_test_split(df.iloc[:, [2]], df['mpg'], test_size =  0.33, random_state = 1)\n",
    "\n",
    "#Add additional features to the model degree = 2, no interaction terms\n",
    "poly = PolynomialFeatures(degree = 2, interaction_only=False,include_bias = False)\n",
    "\n",
    "#Change the matrix it include higher order terms\n",
    "x_train = poly.fit_transform(x_train)\n",
    "x_test = poly.fit_transform(x_test)\n",
    "\n",
    "lm = LinearRegression()\n",
    "\n",
    "#fit the linear regression to the training set and then find the R^2 with the test set\n",
    "print(lm.fit(x_train, y_train).score(x_test, y_test))\n",
    "\n",
    "#find MSE\n",
    "y_predict = lm.predict(x_test)\n",
    "mean_squared_error(y_test, y_predict)"
   ]
  },
  {
   "cell_type": "code",
   "execution_count": 44,
   "metadata": {},
   "outputs": [
    {
     "name": "stdout",
     "output_type": "stream",
     "text": [
      "0.6818441000069388\n"
     ]
    },
    {
     "data": {
      "text/plain": [
       "21.637074908715086"
      ]
     },
     "execution_count": 44,
     "metadata": {},
     "output_type": "execute_result"
    }
   ],
   "source": [
    "# -------------------------------------------------------------------------------------------------\n",
    "# Guided lab work\n",
    "#\n",
    "# 5.3.1 The validation set approach- add in polynomial terms\n",
    "# -------------------------------------------------------------------------------------------------\n",
    "\n",
    "#split the data into training and test sets. Set the seed for the random split\n",
    "x_train, x_test, y_train, y_test = train_test_split(df.iloc[:, [2]], df['mpg'], test_size =  0.33, random_state = 1)\n",
    "\n",
    "#Add additional features to the model degree = 2, no interaction terms\n",
    "poly = PolynomialFeatures(degree = 3, interaction_only=False, include_bias = False)\n",
    "\n",
    "#Change the matrix it include higher order terms\n",
    "x_train = poly.fit_transform(x_train)\n",
    "x_test = poly.fit_transform(x_test)\n",
    "\n",
    "lm = LinearRegression()\n",
    "\n",
    "#fit the linear regression to the training set and then find the R^2 with the test set\n",
    "print(lm.fit(x_train, y_train).score(x_test, y_test))\n",
    "\n",
    "\n",
    "#find MSE\n",
    "y_predict = lm.predict(x_test)\n",
    "mean_squared_error(y_test, y_predict)"
   ]
  },
  {
   "cell_type": "code",
   "execution_count": null,
   "metadata": {},
   "outputs": [],
   "source": [
    "# -------------------------------------------------------------------------------------------------\n",
    "# Guided lab work\n",
    "#\n",
    "# m\n",
    "# -------------------------------------------------------------------------------------------------"
   ]
  }
 ],
 "metadata": {
  "kernelspec": {
   "display_name": "Python 3",
   "language": "python",
   "name": "python3"
  },
  "language_info": {
   "codemirror_mode": {
    "name": "ipython",
    "version": 3
   },
   "file_extension": ".py",
   "mimetype": "text/x-python",
   "name": "python",
   "nbconvert_exporter": "python",
   "pygments_lexer": "ipython3",
   "version": "3.7.3"
  }
 },
 "nbformat": 4,
 "nbformat_minor": 2
}
